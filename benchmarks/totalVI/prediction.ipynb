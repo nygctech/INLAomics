{
 "cells": [
  {
   "cell_type": "code",
   "execution_count": 1,
   "id": "071c720b",
   "metadata": {},
   "outputs": [
    {
     "name": "stderr",
     "output_type": "stream",
     "text": [
      "/Users/lukar818/.pyenv/versions/3.13.5/envs/totalvi/lib/python3.13/site-packages/scanpy/_utils/__init__.py:33: FutureWarning: `__version__` is deprecated, use `importlib.metadata.version('anndata')` instead.\n",
      "  from anndata import __version__ as anndata_version\n",
      "/Users/lukar818/.pyenv/versions/3.13.5/envs/totalvi/lib/python3.13/site-packages/scanpy/__init__.py:24: FutureWarning: `__version__` is deprecated, use `importlib.metadata.version('anndata')` instead.\n",
      "  if Version(anndata.__version__) >= Version(\"0.11.0rc2\"):\n",
      "/Users/lukar818/.pyenv/versions/3.13.5/envs/totalvi/lib/python3.13/site-packages/scanpy/readwrite.py:16: FutureWarning: `__version__` is deprecated, use `importlib.metadata.version('anndata')` instead.\n",
      "  if Version(anndata.__version__) >= Version(\"0.11.0rc2\"):\n"
     ]
    }
   ],
   "source": [
    "import numpy as np\n",
    "import pandas as pd\n",
    "import scanpy as sc\n",
    "import anndata as ad\n",
    "import scvi\n",
    "import os\n",
    "import json"
   ]
  },
  {
   "cell_type": "code",
   "execution_count": 2,
   "id": "806d3fd1",
   "metadata": {},
   "outputs": [],
   "source": [
    "path = \"/Users/lukar818/Documents/postdoc/MCAR/data/visiumtwo\" # set to location of glioblastoma data"
   ]
  },
  {
   "cell_type": "code",
   "execution_count": 4,
   "id": "9944425a",
   "metadata": {},
   "outputs": [],
   "source": [
    "with open(os.path.join(os.getcwd(), \"..\", \"predids.json\")) as json_file:\n",
    "    json_data = json.load(json_file)"
   ]
  },
  {
   "cell_type": "code",
   "execution_count": 39,
   "id": "1062dcb4",
   "metadata": {},
   "outputs": [],
   "source": [
    "adata_all = sc.read_10x_mtx(\n",
    "    os.path.join(path, \"filtered_feature_bc_matrix\"),\n",
    "    var_names=\"gene_symbols\",\n",
    "    gex_only=False\n",
    ")"
   ]
  },
  {
   "cell_type": "code",
   "execution_count": 40,
   "id": "a785fa10",
   "metadata": {},
   "outputs": [
    {
     "data": {
      "text/plain": [
       "dict_keys(['CR2', 'CD163', 'PCNA', 'BCL2', 'FCGR3A', 'EPCAM', 'CD40', 'CD4', 'CD274'])"
      ]
     },
     "execution_count": 40,
     "metadata": {},
     "output_type": "execute_result"
    }
   ],
   "source": [
    "json_data['glioblastoma'].keys()"
   ]
  },
  {
   "cell_type": "markdown",
   "id": "ecd8a4a7",
   "metadata": {},
   "source": [
    "## PCNA Glioblastoma example"
   ]
  },
  {
   "cell_type": "code",
   "execution_count": 53,
   "id": "a8394579",
   "metadata": {},
   "outputs": [],
   "source": [
    "test_barcodes = np.array(json_data['glioblastoma']['PCNA'])\n",
    "mask_test = np.isin(adata_all.obs_names, test_barcodes)\n",
    "mask_train = ~mask_test\n"
   ]
  },
  {
   "cell_type": "code",
   "execution_count": 57,
   "id": "bc98c4f7",
   "metadata": {},
   "outputs": [],
   "source": [
    "sc.pp.highly_variable_genes(\n",
    "    adata_all,\n",
    "    flavor=\"seurat_v3\",\n",
    "    n_top_genes=4000,\n",
    "    subset=True\n",
    ")\n"
   ]
  },
  {
   "cell_type": "code",
   "execution_count": null,
   "id": "901cf15b",
   "metadata": {},
   "outputs": [],
   "source": [
    "train_idx = np.where(mask_train)[0]\n",
    "test_idx  = np.where(mask_test)[0]\n",
    "\n",
    "rna = adata_all[:, adata_all.var[\"feature_types\"] == \"Gene Expression\"]\n",
    "prot = adata_all[:, adata_all.var[\"feature_types\"] == \"Antibody Capture\"]\n",
    "\n",
    "adata_train = ad.AnnData(\n",
    "    X=rna.X[train_idx],\n",
    "    obs=rna.obs.iloc[train_idx].copy(),\n",
    "    var=rna.var.copy()\n",
    ")\n",
    "adata_train.obsm[\"protein_expression\"] = prot.X[train_idx]\n",
    "adata_train.uns[\"protein_names\"] = prot.var_names.tolist()\n",
    "adata_train.obs['batch'] = 'train'\n",
    "\n",
    "adata_test = ad.AnnData(\n",
    "    X=rna.X[test_idx],\n",
    "    obs=rna.obs.iloc[test_idx].copy(),\n",
    "    var=rna.var.copy()\n",
    ")\n",
    "adata_test.obsm[\"protein_expression\"] = prot.X[test_idx]\n",
    "adata_test.uns[\"protein_names\"] = prot.var_names.tolist()\n",
    "adata_test.obs['batch'] = 'test'"
   ]
  },
  {
   "cell_type": "code",
   "execution_count": 60,
   "id": "5994b601",
   "metadata": {},
   "outputs": [],
   "source": [
    "adata_train.X = adata_train.X.toarray() if hasattr(adata_train.X, \"toarray\") else adata_train.X\n",
    "\n",
    "adata_train.obsm[\"protein_expression\"] = (\n",
    "    adata_train.obsm[\"protein_expression\"].toarray()\n",
    "    if hasattr(adata_train.obsm[\"protein_expression\"], \"toarray\")\n",
    "    else adata_train.obsm[\"protein_expression\"]\n",
    ")"
   ]
  },
  {
   "cell_type": "code",
   "execution_count": null,
   "id": "7dbec0f0",
   "metadata": {},
   "outputs": [],
   "source": [
    "adata_test.X = adata_test.X.toarray() if hasattr(adata_test.X, \"toarray\") else adata_test.X\n",
    "\n",
    "adata_test.obsm[\"protein_expression\"] = (\n",
    "    adata_test.obsm[\"protein_expression\"].toarray()\n",
    "    if hasattr(adata_test.obsm[\"protein_expression\"], \"toarray\")\n",
    "    else adata_test.obsm[\"protein_expression\"]\n",
    ")"
   ]
  },
  {
   "cell_type": "markdown",
   "id": "2cdebb7f",
   "metadata": {},
   "source": [
    "Glioblastoma and Visium10x breast cancer all has much larger protein expressions than the remaining datasets. It tends to cause converge issues across all methods."
   ]
  },
  {
   "cell_type": "code",
   "execution_count": null,
   "id": "835c3a49",
   "metadata": {},
   "outputs": [],
   "source": [
    "for ads in [adata_train, adata_test]:\n",
    "    prot = ads.obsm[\"protein_expression\"]\n",
    "\n",
    "    if hasattr(prot, \"toarray\"):\n",
    "        prot = prot.toarray()\n",
    "        \n",
    "    prot = (prot / 100).astype(int)\n",
    "\n",
    "    ads.obsm[\"protein_expression\"] = prot"
   ]
  },
  {
   "cell_type": "code",
   "execution_count": null,
   "id": "c5d7299f",
   "metadata": {},
   "outputs": [
    {
     "name": "stdout",
     "output_type": "stream",
     "text": [
      "\u001b[34mINFO    \u001b[0m Generating sequential column names                                                                        \n",
      "\u001b[34mINFO    \u001b[0m Generating sequential column names                                                                        \n"
     ]
    },
    {
     "name": "stderr",
     "output_type": "stream",
     "text": [
      "/var/folders/rs/_rjl71n16bgcl_57zv22vzx00000gn/T/ipykernel_70077/2377334654.py:2: DeprecationWarning: We recommend using setup_mudata for multi-modal data.It does not influence model performance\n",
      "  scvi.model.TOTALVI.setup_anndata(\n",
      "/var/folders/rs/_rjl71n16bgcl_57zv22vzx00000gn/T/ipykernel_70077/2377334654.py:7: DeprecationWarning: We recommend using setup_mudata for multi-modal data.It does not influence model performance\n",
      "  scvi.model.TOTALVI.setup_anndata(\n"
     ]
    }
   ],
   "source": [
    "scvi.model.TOTALVI.setup_anndata(\n",
    "    adata_train,\n",
    "    protein_expression_obsm_key=\"protein_expression\"\n",
    ")\n",
    "\n",
    "scvi.model.TOTALVI.setup_anndata(\n",
    "    adata_test,\n",
    "    protein_expression_obsm_key=\"protein_expression\"\n",
    ")"
   ]
  },
  {
   "cell_type": "code",
   "execution_count": 67,
   "id": "2479005b",
   "metadata": {},
   "outputs": [
    {
     "name": "stdout",
     "output_type": "stream",
     "text": [
      "\u001b[34mINFO    \u001b[0m Computing empirical prior initialization for protein background.                                          \n"
     ]
    },
    {
     "name": "stderr",
     "output_type": "stream",
     "text": [
      "/Users/lukar818/.pyenv/versions/3.13.5/envs/totalvi/lib/python3.13/site-packages/scvi/train/_trainrunner.py:82: UserWarning: `accelerator` has been set to `mps`. Please note that not all PyTorch/Jax operations are supported with this backend. as a result, some models might be slower and less accurate than usuall. Please verify your analysis!Refer to https://github.com/pytorch/pytorch/issues/77764 for more details.\n",
      "  accelerator, lightning_devices, device = parse_device_args(\n",
      "GPU available: True (mps), used: True\n",
      "TPU available: False, using: 0 TPU cores\n",
      "HPU available: False, using: 0 HPUs\n",
      "/Users/lukar818/.pyenv/versions/3.13.5/envs/totalvi/lib/python3.13/site-packages/lightning/pytorch/core/optimizer.py:317: The lr scheduler dict contains the key(s) ['monitor'], but the keys will be ignored. You need to call `lr_scheduler.step()` manually in manual optimization.\n",
      "/Users/lukar818/.pyenv/versions/3.13.5/envs/totalvi/lib/python3.13/site-packages/lightning/pytorch/trainer/connectors/data_connector.py:425: The 'train_dataloader' does not have many workers which may be a bottleneck. Consider increasing the value of the `num_workers` argument` to `num_workers=9` in the `DataLoader` to improve performance.\n",
      "/Users/lukar818/.pyenv/versions/3.13.5/envs/totalvi/lib/python3.13/site-packages/lightning/pytorch/trainer/connectors/data_connector.py:425: The 'val_dataloader' does not have many workers which may be a bottleneck. Consider increasing the value of the `num_workers` argument` to `num_workers=9` in the `DataLoader` to improve performance.\n"
     ]
    },
    {
     "data": {
      "application/vnd.jupyter.widget-view+json": {
       "model_id": "46b4e95a8c3e4af4a78c4286a6224ec6",
       "version_major": 2,
       "version_minor": 0
      },
      "text/plain": [
       "Training:   0%|          | 0/400 [00:00<?, ?it/s]"
      ]
     },
     "metadata": {},
     "output_type": "display_data"
    },
    {
     "name": "stderr",
     "output_type": "stream",
     "text": [
      "`Trainer.fit` stopped: `max_epochs=400` reached.\n"
     ]
    }
   ],
   "source": [
    "model = scvi.model.TOTALVI(adata_train,\n",
    "                           latent_distribution=\"normal\",\n",
    "                           n_layers_decoder=2)\n",
    "model.train(max_epochs=400,\n",
    "            accelerator='mps')"
   ]
  },
  {
   "cell_type": "code",
   "execution_count": 68,
   "id": "e176e6df",
   "metadata": {},
   "outputs": [
    {
     "data": {
      "text/plain": [
       "<Axes: xlabel='epoch'>"
      ]
     },
     "execution_count": 68,
     "metadata": {},
     "output_type": "execute_result"
    },
    {
     "data": {
      "image/png": "[encoded data removed]",
      "text/plain": [
       "<Figure size 640x480 with 1 Axes>"
      ]
     },
     "metadata": {},
     "output_type": "display_data"
    }
   ],
   "source": [
    "model.history[\"elbo_train\"].plot()"
   ]
  },
  {
   "cell_type": "code",
   "execution_count": null,
   "id": "407d056f",
   "metadata": {},
   "outputs": [],
   "source": [
    "true_proteins = adata_test.obsm[\"protein_expression\"]"
   ]
  },
  {
   "cell_type": "code",
   "execution_count": 70,
   "id": "a92c3b17",
   "metadata": {},
   "outputs": [
    {
     "name": "stdout",
     "output_type": "stream",
     "text": [
      "\u001b[34mINFO    \u001b[0m Input AnnData not setup with scvi-tools. attempting to transfer AnnData setup                             \n"
     ]
    }
   ],
   "source": [
    "_, protein_pred = model.get_normalized_expression(\n",
    "    adata_test,\n",
    "    n_samples=50,\n",
    "    include_protein_background=True,\n",
    "    sample_protein_mixing=False,\n",
    "    return_mean=True,\n",
    ")"
   ]
  },
  {
   "cell_type": "code",
   "execution_count": 96,
   "id": "63a7d975",
   "metadata": {},
   "outputs": [
    {
     "name": "stdout",
     "output_type": "stream",
     "text": [
      "PCNA-1: 562.61\n"
     ]
    }
   ],
   "source": [
    "rmse_per_protein = np.sqrt(\n",
    "    np.mean((true_proteins - protein_pred) ** 2, axis=0)\n",
    ")\n",
    "\n",
    "for prot_name, rmse_val in zip(adata_test.uns[\"protein_names\"], rmse_per_protein):\n",
    "    if prot_name == \"PCNA-1\":print(f\"{prot_name}: {rmse_val:.2f}\")"
   ]
  },
  {
   "cell_type": "markdown",
   "id": "7c61091a",
   "metadata": {},
   "source": [
    "## PTPRC breast cancer (visium 10x) example"
   ]
  },
  {
   "cell_type": "code",
   "execution_count": null,
   "id": "f36909a9",
   "metadata": {},
   "outputs": [],
   "source": [
    "path = \"/Users/lukar818/Documents/postdoc/MCAR/data/visiumbc\" # set to location of visium 10x breast cancer\n",
    "\n",
    "adata_all = sc.read_10x_mtx(\n",
    "    os.path.join(path, \"filtered_feature_bc_matrix\"),\n",
    "    var_names=\"gene_symbols\",\n",
    "    gex_only=False\n",
    ")"
   ]
  },
  {
   "cell_type": "code",
   "execution_count": 117,
   "id": "80285e73",
   "metadata": {},
   "outputs": [
    {
     "data": {
      "text/plain": [
       "dict_keys(['PCNA', 'VIM', 'KRT', 'PTPRC', 'PAX5', 'BCL2', 'CD19', 'FCGR3A', 'CD3E', 'PECAM1'])"
      ]
     },
     "execution_count": 117,
     "metadata": {},
     "output_type": "execute_result"
    }
   ],
   "source": [
    "json_data['visiumBC'].keys()"
   ]
  },
  {
   "cell_type": "code",
   "execution_count": 118,
   "id": "17cd4e9a",
   "metadata": {},
   "outputs": [],
   "source": [
    "sc.pp.highly_variable_genes(\n",
    "    adata_all,\n",
    "    flavor=\"seurat_v3\",\n",
    "    n_top_genes=4000,\n",
    "    subset=True\n",
    ")"
   ]
  },
  {
   "cell_type": "code",
   "execution_count": 119,
   "id": "6b4ee61b",
   "metadata": {},
   "outputs": [],
   "source": [
    "test_barcodes = np.array(json_data['visiumBC']['PTPRC'])\n",
    "mask_test = np.isin(adata_all.obs_names, test_barcodes)\n",
    "mask_train = ~mask_test\n",
    "\n",
    "train_idx = np.where(mask_train)[0]\n",
    "test_idx  = np.where(mask_test)[0]\n",
    "\n",
    "rna = adata_all[:, adata_all.var[\"feature_types\"] == \"Gene Expression\"]\n",
    "prot = adata_all[:, adata_all.var[\"feature_types\"] == \"Antibody Capture\"]\n",
    "\n",
    "adata_train = ad.AnnData(\n",
    "    X=rna.X[train_idx],\n",
    "    obs=rna.obs.iloc[train_idx].copy(),\n",
    "    var=rna.var.copy()\n",
    ")\n",
    "adata_train.obsm[\"protein_expression\"] = prot.X[train_idx]\n",
    "adata_train.uns[\"protein_names\"] = prot.var_names.tolist()\n",
    "adata_train.obs['batch'] = 'train'\n",
    "\n",
    "adata_test = ad.AnnData(\n",
    "    X=rna.X[test_idx],\n",
    "    obs=rna.obs.iloc[test_idx].copy(),\n",
    "    var=rna.var.copy()\n",
    ")\n",
    "adata_test.obsm[\"protein_expression\"] = prot.X[test_idx]\n",
    "adata_test.uns[\"protein_names\"] = prot.var_names.tolist()\n",
    "adata_test.obs['batch'] = 'train'"
   ]
  },
  {
   "cell_type": "code",
   "execution_count": 120,
   "id": "e26b570c",
   "metadata": {},
   "outputs": [],
   "source": [
    "for ads in [adata_train, adata_test]:\n",
    "    prot = ads.obsm[\"protein_expression\"]\n",
    "\n",
    "    if hasattr(prot, \"toarray\"):\n",
    "        prot = prot.toarray()\n",
    "        \n",
    "    prot = (prot / 100).astype(int)\n",
    "\n",
    "    ads.obsm[\"protein_expression\"] = prot"
   ]
  },
  {
   "cell_type": "code",
   "execution_count": 121,
   "id": "109fb8ac",
   "metadata": {},
   "outputs": [
    {
     "name": "stdout",
     "output_type": "stream",
     "text": [
      "\u001b[34mINFO    \u001b[0m Generating sequential column names                                                                        \n",
      "\u001b[34mINFO    \u001b[0m Generating sequential column names                                                                        \n"
     ]
    },
    {
     "name": "stderr",
     "output_type": "stream",
     "text": [
      "/var/folders/rs/_rjl71n16bgcl_57zv22vzx00000gn/T/ipykernel_70077/4212774130.py:1: DeprecationWarning: We recommend using setup_mudata for multi-modal data.It does not influence model performance\n",
      "  scvi.model.TOTALVI.setup_anndata(\n",
      "/Users/lukar818/.pyenv/versions/3.13.5/envs/totalvi/lib/python3.13/site-packages/scvi/data/fields/_layer_field.py:115: UserWarning: Training will be faster when sparse matrix is formatted as CSR. It is safe to cast before model initialization.\n",
      "  _verify_and_correct_data_format(adata, self.attr_name, self.attr_key)\n",
      "/var/folders/rs/_rjl71n16bgcl_57zv22vzx00000gn/T/ipykernel_70077/4212774130.py:6: DeprecationWarning: We recommend using setup_mudata for multi-modal data.It does not influence model performance\n",
      "  scvi.model.TOTALVI.setup_anndata(\n",
      "/Users/lukar818/.pyenv/versions/3.13.5/envs/totalvi/lib/python3.13/site-packages/scvi/data/fields/_layer_field.py:115: UserWarning: Training will be faster when sparse matrix is formatted as CSR. It is safe to cast before model initialization.\n",
      "  _verify_and_correct_data_format(adata, self.attr_name, self.attr_key)\n"
     ]
    }
   ],
   "source": [
    "scvi.model.TOTALVI.setup_anndata(\n",
    "    adata_train,\n",
    "    protein_expression_obsm_key=\"protein_expression\"\n",
    ")\n",
    "\n",
    "scvi.model.TOTALVI.setup_anndata(\n",
    "    adata_test,\n",
    "    protein_expression_obsm_key=\"protein_expression\"\n",
    ")"
   ]
  },
  {
   "cell_type": "code",
   "execution_count": 122,
   "id": "a1135681",
   "metadata": {},
   "outputs": [
    {
     "name": "stdout",
     "output_type": "stream",
     "text": [
      "\u001b[34mINFO    \u001b[0m Computing empirical prior initialization for protein background.                                          \n"
     ]
    },
    {
     "name": "stderr",
     "output_type": "stream",
     "text": [
      "/Users/lukar818/.pyenv/versions/3.13.5/envs/totalvi/lib/python3.13/site-packages/scvi/train/_trainrunner.py:82: UserWarning: `accelerator` has been set to `mps`. Please note that not all PyTorch/Jax operations are supported with this backend. as a result, some models might be slower and less accurate than usuall. Please verify your analysis!Refer to https://github.com/pytorch/pytorch/issues/77764 for more details.\n",
      "  accelerator, lightning_devices, device = parse_device_args(\n",
      "GPU available: True (mps), used: True\n",
      "TPU available: False, using: 0 TPU cores\n",
      "HPU available: False, using: 0 HPUs\n",
      "/Users/lukar818/.pyenv/versions/3.13.5/envs/totalvi/lib/python3.13/site-packages/lightning/pytorch/core/optimizer.py:317: The lr scheduler dict contains the key(s) ['monitor'], but the keys will be ignored. You need to call `lr_scheduler.step()` manually in manual optimization.\n",
      "/Users/lukar818/.pyenv/versions/3.13.5/envs/totalvi/lib/python3.13/site-packages/lightning/pytorch/trainer/connectors/data_connector.py:425: The 'train_dataloader' does not have many workers which may be a bottleneck. Consider increasing the value of the `num_workers` argument` to `num_workers=9` in the `DataLoader` to improve performance.\n",
      "/Users/lukar818/.pyenv/versions/3.13.5/envs/totalvi/lib/python3.13/site-packages/lightning/pytorch/trainer/connectors/data_connector.py:425: The 'val_dataloader' does not have many workers which may be a bottleneck. Consider increasing the value of the `num_workers` argument` to `num_workers=9` in the `DataLoader` to improve performance.\n"
     ]
    },
    {
     "data": {
      "application/vnd.jupyter.widget-view+json": {
       "model_id": "0d50fef7d0ff4350a339d256f0ba57e9",
       "version_major": 2,
       "version_minor": 0
      },
      "text/plain": [
       "Training:   0%|          | 0/400 [00:00<?, ?it/s]"
      ]
     },
     "metadata": {},
     "output_type": "display_data"
    },
    {
     "name": "stdout",
     "output_type": "stream",
     "text": [
      "Monitored metric elbo_validation did not improve in the last 45 records. Best score: 3707.496. Signaling Trainer to stop.\n"
     ]
    }
   ],
   "source": [
    "model = scvi.model.TOTALVI(adata_train,\n",
    "                           latent_distribution=\"normal\",\n",
    "                           n_layers_decoder=2)\n",
    "model.train(max_epochs=400,\n",
    "            accelerator='mps')"
   ]
  },
  {
   "cell_type": "code",
   "execution_count": 123,
   "id": "c2a64089",
   "metadata": {},
   "outputs": [
    {
     "data": {
      "text/plain": [
       "<Axes: xlabel='epoch'>"
      ]
     },
     "execution_count": 123,
     "metadata": {},
     "output_type": "execute_result"
    },
    {
     "data": {
      "image/png": "[encoded data removed]",
      "text/plain": [
       "<Figure size 640x480 with 1 Axes>"
      ]
     },
     "metadata": {},
     "output_type": "display_data"
    }
   ],
   "source": [
    "model.history[\"elbo_train\"].plot()"
   ]
  },
  {
   "cell_type": "code",
   "execution_count": 124,
   "id": "e7ed565e",
   "metadata": {},
   "outputs": [],
   "source": [
    "true_proteins = adata_test.obsm[\"protein_expression\"]"
   ]
  },
  {
   "cell_type": "code",
   "execution_count": 125,
   "id": "5132fe13",
   "metadata": {},
   "outputs": [
    {
     "name": "stdout",
     "output_type": "stream",
     "text": [
      "\u001b[34mINFO    \u001b[0m Input AnnData not setup with scvi-tools. attempting to transfer AnnData setup                             \n"
     ]
    },
    {
     "name": "stderr",
     "output_type": "stream",
     "text": [
      "/Users/lukar818/.pyenv/versions/3.13.5/envs/totalvi/lib/python3.13/site-packages/scvi/data/fields/_layer_field.py:115: UserWarning: Training will be faster when sparse matrix is formatted as CSR. It is safe to cast before model initialization.\n",
      "  _verify_and_correct_data_format(adata, self.attr_name, self.attr_key)\n"
     ]
    }
   ],
   "source": [
    "_, protein_pred = model.get_normalized_expression(\n",
    "    adata_test,\n",
    "    n_samples=50,\n",
    "    include_protein_background=True,\n",
    "    sample_protein_mixing=False,\n",
    "    return_mean=True,\n",
    ")"
   ]
  },
  {
   "cell_type": "code",
   "execution_count": 130,
   "id": "5f2a8f08",
   "metadata": {},
   "outputs": [
    {
     "name": "stdout",
     "output_type": "stream",
     "text": [
      "PTPRC-2: 391.77\n"
     ]
    }
   ],
   "source": [
    "rmse_per_protein = np.sqrt(\n",
    "    np.mean((true_proteins - protein_pred) ** 2, axis=0)\n",
    ")\n",
    "\n",
    "for prot_name, rmse_val in zip(adata_test.uns[\"protein_names\"], rmse_per_protein):\n",
    "    if prot_name == \"PTPRC-2\":print(f\"{prot_name}: {rmse_val:.2f}\")"
   ]
  },
  {
   "cell_type": "code",
   "execution_count": null,
   "id": "e0bd093a",
   "metadata": {},
   "outputs": [],
   "source": []
  }
 ],
 "metadata": {
  "kernelspec": {
   "display_name": "totalvi",
   "language": "python",
   "name": "python3"
  },
  "language_info": {
   "codemirror_mode": {
    "name": "ipython",
    "version": 3
   },
   "file_extension": ".py",
   "mimetype": "text/x-python",
   "name": "python",
   "nbconvert_exporter": "python",
   "pygments_lexer": "ipython3",
   "version": "3.13.5"
  }
 },
 "nbformat": 4,
 "nbformat_minor": 5
}
