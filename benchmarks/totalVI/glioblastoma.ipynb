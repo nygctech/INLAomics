{
 "cells": [
  {
   "cell_type": "code",
   "execution_count": null,
   "id": "071c720b",
   "metadata": {},
   "outputs": [],
   "source": [
    "import scanpy as sc\n",
    "import anndata as ad\n",
    "import pandas as pd\n",
    "import os\n",
    "import numpy as np\n",
    "import json\n",
    "import scvi\n",
    "from sklearn.metrics import mean_squared_error"
   ]
  },
  {
   "cell_type": "code",
   "execution_count": null,
   "id": "806d3fd1",
   "metadata": {},
   "outputs": [],
   "source": [
    "path = \"/Users/lukar818/Documents/postdoc/MCAR/data/visiumtwo\" # set to location of glioblastoma data"
   ]
  },
  {
   "cell_type": "code",
   "execution_count": 301,
   "id": "9944425a",
   "metadata": {},
   "outputs": [],
   "source": [
    "with open(os.path.join(os.getcwd(), \"data\", \"predids.json\")) as json_file:\n",
    "    json_data = json.load(json_file)"
   ]
  },
  {
   "cell_type": "code",
   "execution_count": 302,
   "id": "1062dcb4",
   "metadata": {},
   "outputs": [],
   "source": [
    "adata_all = sc.read_10x_mtx(\n",
    "    os.path.join(path, \"filtered_feature_bc_matrix\"),\n",
    "    var_names=\"gene_symbols\",\n",
    "    gex_only=False\n",
    ")"
   ]
  },
  {
   "cell_type": "code",
   "execution_count": null,
   "id": "a785fa10",
   "metadata": {},
   "outputs": [
    {
     "data": {
      "text/plain": [
       "dict_keys(['PCNA', 'VIM', 'KRT', 'PTPRC', 'PAX5', 'BCL2', 'CD19', 'FCGR3A', 'CD3E', 'PECAM1'])"
      ]
     },
     "execution_count": 303,
     "metadata": {},
     "output_type": "execute_result"
    }
   ],
   "source": [
    "json_data['glioblastoma'].keys()"
   ]
  },
  {
   "cell_type": "markdown",
   "id": "ecd8a4a7",
   "metadata": {},
   "source": [
    "## PCNA Glioblastoma example"
   ]
  },
  {
   "cell_type": "code",
   "execution_count": null,
   "id": "a8394579",
   "metadata": {},
   "outputs": [],
   "source": [
    "test_barcodes = np.array(json_data['visiumBC']['PCNA'])\n",
    "mask_test = np.isin(adata_all.obs_names, test_barcodes)\n",
    "mask_train = ~mask_test\n"
   ]
  },
  {
   "cell_type": "code",
   "execution_count": 409,
   "id": "901cf15b",
   "metadata": {},
   "outputs": [],
   "source": [
    "train_idx = np.where(mask_train)[0]\n",
    "test_idx  = np.where(mask_test)[0]\n",
    "\n",
    "rna = adata_all[:, adata_all.var[\"feature_types\"] == \"Gene Expression\"]\n",
    "prot = adata_all[:, adata_all.var[\"feature_types\"] == \"Antibody Capture\"]\n",
    "\n",
    "adata_train = ad.AnnData(\n",
    "    X=rna.X[train_idx],\n",
    "    obs=rna.obs.iloc[train_idx].copy(),\n",
    "    var=rna.var.copy()\n",
    ")\n",
    "adata_train.obsm[\"protein_expression\"] = prot.X[train_idx]\n",
    "adata_train.uns[\"protein_names\"] = prot.var_names.tolist()\n",
    "adata_train.obs['batch'] = 'train'\n",
    "\n",
    "adata_test = ad.AnnData(\n",
    "    X=rna.X[test_idx],\n",
    "    obs=rna.obs.iloc[test_idx].copy(),\n",
    "    var=rna.var.copy()\n",
    ")\n",
    "adata_test.obsm[\"protein_expression\"] = prot.X[test_idx]\n",
    "adata_test.uns[\"protein_names\"] = prot.var_names.tolist()\n",
    "adata_test.obs['batch'] = 'train'"
   ]
  },
  {
   "cell_type": "code",
   "execution_count": null,
   "id": "5994b601",
   "metadata": {},
   "outputs": [],
   "source": [
    "adata_train.X = adata_train.X.toarray() if hasattr(adata_train.X, \"toarray\") else adata_train.X\n",
    "\n",
    "adata_train.obsm[\"protein_expression\"] = (\n",
    "    adata_train.obsm[\"protein_expression\"].toarray()\n",
    "    if hasattr(adata_train.obsm[\"protein_expression\"], \"toarray\")\n",
    "    else adata_train.obsm[\"protein_expression\"]\n",
    ")"
   ]
  },
  {
   "cell_type": "code",
   "execution_count": 411,
   "id": "7dbec0f0",
   "metadata": {},
   "outputs": [],
   "source": [
    "adata_test.X = adata_test.X.toarray() if hasattr(adata_test.X, \"toarray\") else adata_test.X\n",
    "\n",
    "# Convert protein counts to dense\n",
    "adata_test.obsm[\"protein_expression\"] = (\n",
    "    adata_test.obsm[\"protein_expression\"].toarray()\n",
    "    if hasattr(adata_test.obsm[\"protein_expression\"], \"toarray\")\n",
    "    else adata_test.obsm[\"protein_expression\"]\n",
    ")"
   ]
  },
  {
   "cell_type": "code",
   "execution_count": 412,
   "id": "835c3a49",
   "metadata": {},
   "outputs": [],
   "source": [
    "for ads in [adata_train, adata_test]:\n",
    "    prot = ads.obsm[\"protein_expression\"]\n",
    "\n",
    "    # Convert sparse → dense if needed\n",
    "    if hasattr(prot, \"toarray\"):\n",
    "        prot = prot.toarray()\n",
    "\n",
    "    # Divide by 100 and floor to integers\n",
    "    prot = (prot / 100).astype(int)\n",
    "\n",
    "    ads.obsm[\"protein_expression\"] = prot"
   ]
  },
  {
   "cell_type": "code",
   "execution_count": 413,
   "id": "0b3b9df9",
   "metadata": {},
   "outputs": [],
   "source": [
    "sc.pp.highly_variable_genes(\n",
    "    adata_train,\n",
    "    flavor=\"seurat_v3\",\n",
    "    n_top_genes=4000,\n",
    "    subset=True\n",
    ")\n",
    "\n",
    "sc.pp.highly_variable_genes(\n",
    "    adata_test,\n",
    "    flavor=\"seurat_v3\",\n",
    "    n_top_genes=4000,\n",
    "    subset=True\n",
    ")"
   ]
  },
  {
   "cell_type": "code",
   "execution_count": 414,
   "id": "c5d7299f",
   "metadata": {},
   "outputs": [
    {
     "name": "stdout",
     "output_type": "stream",
     "text": [
      "\u001b[34mINFO    \u001b[0m Generating sequential column names                                                                        \n",
      "\u001b[34mINFO    \u001b[0m Generating sequential column names                                                                        \n"
     ]
    },
    {
     "name": "stderr",
     "output_type": "stream",
     "text": [
      "/var/folders/rs/_rjl71n16bgcl_57zv22vzx00000gn/T/ipykernel_92941/2377334654.py:2: DeprecationWarning: We recommend using setup_mudata for multi-modal data.It does not influence model performance\n",
      "  scvi.model.TOTALVI.setup_anndata(\n",
      "/var/folders/rs/_rjl71n16bgcl_57zv22vzx00000gn/T/ipykernel_92941/2377334654.py:7: DeprecationWarning: We recommend using setup_mudata for multi-modal data.It does not influence model performance\n",
      "  scvi.model.TOTALVI.setup_anndata(\n"
     ]
    }
   ],
   "source": [
    "# --- 5. Setup totalVI on training data ---\n",
    "scvi.model.TOTALVI.setup_anndata(\n",
    "    adata_train,\n",
    "    protein_expression_obsm_key=\"protein_expression\"\n",
    ")\n",
    "\n",
    "scvi.model.TOTALVI.setup_anndata(\n",
    "    adata_test,\n",
    "    protein_expression_obsm_key=\"protein_expression\"\n",
    ")"
   ]
  },
  {
   "cell_type": "code",
   "execution_count": 415,
   "id": "2479005b",
   "metadata": {},
   "outputs": [
    {
     "name": "stdout",
     "output_type": "stream",
     "text": [
      "\u001b[34mINFO    \u001b[0m Computing empirical prior initialization for protein background.                                          \n"
     ]
    },
    {
     "name": "stderr",
     "output_type": "stream",
     "text": [
      "/Users/lukar818/.pyenv/versions/totalvi/lib/python3.13/site-packages/scvi/train/_trainrunner.py:69: UserWarning: `accelerator` has been set to `mps`. Please note that not all PyTorch/Jax operations are supported with this backend. as a result, some models might be slower and less accurate than usuall. Please verify your analysis!Refer to https://github.com/pytorch/pytorch/issues/77764 for more details.\n",
      "  accelerator, lightning_devices, device = parse_device_args(\n",
      "GPU available: True (mps), used: True\n",
      "TPU available: False, using: 0 TPU cores\n",
      "HPU available: False, using: 0 HPUs\n",
      "/Users/lukar818/.pyenv/versions/totalvi/lib/python3.13/site-packages/lightning/pytorch/core/optimizer.py:317: The lr scheduler dict contains the key(s) ['monitor'], but the keys will be ignored. You need to call `lr_scheduler.step()` manually in manual optimization.\n",
      "/Users/lukar818/.pyenv/versions/totalvi/lib/python3.13/site-packages/lightning/pytorch/trainer/connectors/data_connector.py:425: The 'train_dataloader' does not have many workers which may be a bottleneck. Consider increasing the value of the `num_workers` argument` to `num_workers=9` in the `DataLoader` to improve performance.\n",
      "/Users/lukar818/.pyenv/versions/totalvi/lib/python3.13/site-packages/lightning/pytorch/trainer/connectors/data_connector.py:425: The 'val_dataloader' does not have many workers which may be a bottleneck. Consider increasing the value of the `num_workers` argument` to `num_workers=9` in the `DataLoader` to improve performance.\n"
     ]
    },
    {
     "name": "stdout",
     "output_type": "stream",
     "text": [
      "Epoch 400/400: 100%|██████████| 400/400 [04:56<00:00,  1.33it/s, v_num=1, train_loss_step=3.76e+3, train_loss_epoch=3.64e+3]"
     ]
    },
    {
     "name": "stderr",
     "output_type": "stream",
     "text": [
      "`Trainer.fit` stopped: `max_epochs=400` reached.\n"
     ]
    },
    {
     "name": "stdout",
     "output_type": "stream",
     "text": [
      "Epoch 400/400: 100%|██████████| 400/400 [04:56<00:00,  1.35it/s, v_num=1, train_loss_step=3.76e+3, train_loss_epoch=3.64e+3]\n"
     ]
    }
   ],
   "source": [
    "model = scvi.model.TOTALVI(adata_train,\n",
    "                           latent_distribution=\"normal\",\n",
    "                           n_layers_decoder=2)\n",
    "model.train(max_epochs=400,\n",
    "            accelerator='mps')"
   ]
  },
  {
   "cell_type": "code",
   "execution_count": 404,
   "id": "e176e6df",
   "metadata": {},
   "outputs": [
    {
     "data": {
      "text/plain": [
       "<Axes: xlabel='epoch'>"
      ]
     },
     "execution_count": 404,
     "metadata": {},
     "output_type": "execute_result"
    },
    {
     "data": {
      "image/png": "[encoded data removed]",
      "text/plain": [
       "<Figure size 640x480 with 1 Axes>"
      ]
     },
     "metadata": {},
     "output_type": "display_data"
    }
   ],
   "source": [
    "model.history[\"elbo_train\"].plot()"
   ]
  },
  {
   "cell_type": "code",
   "execution_count": 418,
   "id": "407d056f",
   "metadata": {},
   "outputs": [],
   "source": [
    "true_proteins = adata_test.obsm[\"protein_expression\"]  # (cells × proteins)"
   ]
  },
  {
   "cell_type": "code",
   "execution_count": 419,
   "id": "a92c3b17",
   "metadata": {},
   "outputs": [
    {
     "name": "stdout",
     "output_type": "stream",
     "text": [
      "\u001b[34mINFO    \u001b[0m Input AnnData not setup with scvi-tools. attempting to transfer AnnData setup                             \n"
     ]
    }
   ],
   "source": [
    "_, protein_pred = model.get_normalized_expression(\n",
    "    adata_test,\n",
    "    n_samples=50,\n",
    "    include_protein_background=True,\n",
    "    sample_protein_mixing=False,\n",
    "    return_mean=True,\n",
    ")"
   ]
  },
  {
   "cell_type": "markdown",
   "id": "f683c45c",
   "metadata": {},
   "source": [
    "## PCNA"
   ]
  },
  {
   "cell_type": "code",
   "execution_count": 286,
   "id": "63a7d975",
   "metadata": {},
   "outputs": [
    {
     "name": "stdout",
     "output_type": "stream",
     "text": [
      "PCNA-1: 181.93\n"
     ]
    }
   ],
   "source": [
    "from sklearn.metrics import mean_squared_error\n",
    "rmse_per_protein = np.sqrt(\n",
    "    np.mean((true_proteins - protein_pred) ** 2, axis=0)\n",
    ")\n",
    "\n",
    "for prot_name, rmse_val in zip(adata_test.uns[\"protein_names\"], rmse_per_protein):\n",
    "    if prot_name == \"PCNA-1\":print(f\"{prot_name}: {rmse_val:.2f}\")"
   ]
  },
  {
   "cell_type": "code",
   "execution_count": null,
   "id": "6f79289c",
   "metadata": {},
   "outputs": [],
   "source": []
  }
 ],
 "metadata": {
  "kernelspec": {
   "display_name": "totalvi",
   "language": "python",
   "name": "python3"
  },
  "language_info": {
   "codemirror_mode": {
    "name": "ipython",
    "version": 3
   },
   "file_extension": ".py",
   "mimetype": "text/x-python",
   "name": "python",
   "nbconvert_exporter": "python",
   "pygments_lexer": "ipython3",
   "version": "3.13.5"
  }
 },
 "nbformat": 4,
 "nbformat_minor": 5
}
